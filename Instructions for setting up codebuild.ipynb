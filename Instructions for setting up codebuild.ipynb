{
 "cells": [
  {
   "cell_type": "markdown",
   "id": "31058fbe",
   "metadata": {},
   "source": [
    "### Steps\n",
    "* Step 1. Create a lambda function in AWS account, and name it \"git-to-lambda-demo\"\n",
    "* step 2. Create a github repo called \"git-to-lambda-demo\"\n",
    "* step 3. git clone to the local repo folder, and open visual studio to edit\n",
    "* step 4. create a folder with its name as lambda_function, which is the same as the name of the lambda funtion you created in step 1\n",
    "* step 5. define the `lambda_handler` function that will be executed by lambda in AWS as follows:\n",
    "```python\n",
    "    import pandas as pd\n",
    "\n",
    "    def lambda_handler(event, context):\n",
    "        d = {'col1': [1,2], 'col2': [3,4]}\n",
    "        df = pd.DataFrame(data=d)\n",
    "        print(df)\n",
    "        print('Done x1')\n",
    "```    \n",
    "* step 6. create requirements.txt file as the following:\n",
    "```text\n",
    "pandas==1.2.1\n",
    "```\n",
    "\n",
    "* step 7. create specbuild.yml file as the following:\n",
    "```yml\n",
    "version: 0.2\n",
    "phases:\n",
    "  install:\n",
    "    runtime-versions:\n",
    "      python: 3.8\n",
    "    commands:\n",
    "      - echo \"Installing dependencies...\"\n",
    "      - pip install -r requirements.txt -t lib\n",
    "  build:\n",
    "    commands:\n",
    "      - echo \"Zipping deployment package...\"\n",
    "      - cd lib\n",
    "      - zip -r9 ../deployment_package.zip .\n",
    "      - cd ..\n",
    "      - zip -g deployment_package.zip lambda_function.py\n",
    "  post_build:\n",
    "    commands:\n",
    "      - echo \"Updating lambda Function...\"\n",
    "      - aws lambda update-function-code --function-name github-to-lambda-demo --zip-file fileb://deployment_package.zip\n",
    "      - echo \"DONE!!\"\n",
    "```    \n",
    "\n",
    "* step 8. create build project in AWS codebuilt\n",
    "  + name the project as \"github-to-labmda\"\n",
    "  + in source, select github and input the personal access token of github\n",
    "  + input github repo url\n",
    "  + in source version - optional, type in main\n",
    "  + in webhook, select PUSH and add the filter of `ACTION_ID` of your github account, which can be found from your github account-> settings -> email and the first part of your default github email \n",
    "  + select ubuntu as the OS\n",
    "  + select standard run time and image version 5.0\n",
    "  + let it create a new service role\n",
    "  + in build specifications, select 'use sa buildspec file'\n",
    "  + create the project\n",
    "  + add the full lambda role to the service role, which can be found from \"build details\"\n",
    "  + push code changes to main branch and you should see lambda function is updated"
   ]
  },
  {
   "cell_type": "code",
   "execution_count": null,
   "id": "f292af8e",
   "metadata": {},
   "outputs": [],
   "source": []
  }
 ],
 "metadata": {
  "kernelspec": {
   "display_name": "Python 3 (ipykernel)",
   "language": "python",
   "name": "python3"
  },
  "language_info": {
   "codemirror_mode": {
    "name": "ipython",
    "version": 3
   },
   "file_extension": ".py",
   "mimetype": "text/x-python",
   "name": "python",
   "nbconvert_exporter": "python",
   "pygments_lexer": "ipython3",
   "version": "3.10.4"
  }
 },
 "nbformat": 4,
 "nbformat_minor": 5
}
